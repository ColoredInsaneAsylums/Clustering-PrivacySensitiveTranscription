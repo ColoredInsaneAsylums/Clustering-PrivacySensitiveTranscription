{
 "cells": [
  {
   "cell_type": "code",
   "execution_count": 13,
   "metadata": {},
   "outputs": [],
   "source": [
    "import matplotlib.pyplot as plt\n",
    "import numpy as np\n",
    "import _pickle as pickle\n",
    "\n",
    "from sklearn.manifold import TSNE\n",
    "\n",
    "%matplotlib inline"
   ]
  },
  {
   "cell_type": "code",
   "execution_count": 17,
   "metadata": {},
   "outputs": [],
   "source": [
    "# load features and visualize data points from pickle\n",
    "def visualize(feats_file):\n",
    "    print('[INFO] Reading features from ' + feats_file)\n",
    "    with open(feats_file, 'rb') as handle:\n",
    "        unpickler = pickle.Unpickler(handle)\n",
    "        index = unpickler.load()\n",
    "    \n",
    "    index = {name: vector for name, vector in index.items() if vector is not None}\n",
    "    features = list(index.values())\n",
    "    \n",
    "    print('[INFO] Conducting TSNE')\n",
    "    projection = TSNE(metric='braycurtis').fit_transform(features)\n",
    "    \n",
    "    print('[INFO] Generating plot')\n",
    "    plt.scatter(*projection.T, alpha=0.25)"
   ]
  },
  {
   "cell_type": "code",
   "execution_count": 18,
   "metadata": {},
   "outputs": [],
   "source": [
    "feats = ['r37_phocs.pickle',    'r37_phocs_pca95.pickle',    'r37_phocs_pca90.pickle',  \\\n",
    "         'r37_features.pickle', 'r37_features_pca95.pickle', 'r37_features_pca90.pickle']"
   ]
  },
  {
   "cell_type": "code",
   "execution_count": null,
   "metadata": {},
   "outputs": [
    {
     "name": "stdout",
     "output_type": "stream",
     "text": [
      "[INFO] Reading features from ../phocnet_features/r37_phocs.pickle\n",
      "[INFO] Conducting TSNE\n"
     ]
    }
   ],
   "source": [
    "[visualize('../phocnet_features/' + feat) for feat in feats]"
   ]
  },
  {
   "cell_type": "code",
   "execution_count": null,
   "metadata": {},
   "outputs": [],
   "source": []
  }
 ],
 "metadata": {
  "kernelspec": {
   "display_name": "Python 3",
   "language": "python",
   "name": "python3"
  },
  "language_info": {
   "codemirror_mode": {
    "name": "ipython",
    "version": 3
   },
   "file_extension": ".py",
   "mimetype": "text/x-python",
   "name": "python",
   "nbconvert_exporter": "python",
   "pygments_lexer": "ipython3",
   "version": "3.5.2"
  }
 },
 "nbformat": 4,
 "nbformat_minor": 2
}
